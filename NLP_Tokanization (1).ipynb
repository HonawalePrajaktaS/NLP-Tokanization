{
  "nbformat": 4,
  "nbformat_minor": 0,
  "metadata": {
    "colab": {
      "provenance": []
    },
    "kernelspec": {
      "name": "python3",
      "display_name": "Python 3"
    },
    "language_info": {
      "name": "python"
    }
  },
  "cells": [
    {
      "cell_type": "code",
      "execution_count": null,
      "metadata": {
        "id": "1RzNsP4Wyz5G"
      },
      "outputs": [],
      "source": [
        "import nltk"
      ]
    },
    {
      "cell_type": "markdown",
      "source": [
        "**Make a paragraph**"
      ],
      "metadata": {
        "id": "wOCip4eKzUsb"
      }
    },
    {
      "cell_type": "code",
      "source": [
        "corpus=\"The news that the “crest dam” of the Tungabhadra Reservoir has broken down, and a part of the gate was washed away on Sunday, leads to grave concerns, not only about the safety of the Pampa Sagar dam, which was inaugurated in 1953, but also of Kerala’s Mullaperiyar Dam, which is the only other reservoir in India also built of mud & limestone, and completed in 1895. Kerala has been shouting itself hoarse about the danger to its population from the vulnerability of the ageing dam. When a much newer dam has surrendered to the force of water pressure, what guarantee do we have that Mullaperiyar too will not give way, with calamitous consequences for millions of Keralites in its path? The union government must intervene proactively to find an urgent solution before a catastrophe strikes.\""
      ],
      "metadata": {
        "id": "bhX5xiT4y7lt"
      },
      "execution_count": null,
      "outputs": []
    },
    {
      "cell_type": "code",
      "source": [
        "corpus"
      ],
      "metadata": {
        "colab": {
          "base_uri": "https://localhost:8080/",
          "height": 192
        },
        "id": "uweM-F0Ay7n4",
        "outputId": "fa4484d9-81fc-4972-d9b0-a24f4acb41bf"
      },
      "execution_count": null,
      "outputs": [
        {
          "output_type": "execute_result",
          "data": {
            "text/plain": [
              "'The news that the “crest dam” of the Tungabhadra Reservoir has broken down, and a part of the gate was washed away on Sunday, leads to grave concerns, not only about the safety of the Pampa Sagar dam, which was inaugurated in 1953, but also of Kerala’s Mullaperiyar Dam, which is the only other reservoir in India also built of mud & limestone, and completed in 1895. Kerala has been shouting itself hoarse about the danger to its population from the vulnerability of the ageing dam. When a much newer dam has surrendered to the force of water pressure, what guarantee do we have that Mullaperiyar too will not give way, with calamitous consequences for millions of Keralites in its path? The union government must intervene proactively to find an urgent solution before a catastrophe strikes.'"
            ],
            "application/vnd.google.colaboratory.intrinsic+json": {
              "type": "string"
            }
          },
          "metadata": {},
          "execution_count": 3
        }
      ]
    },
    {
      "cell_type": "markdown",
      "source": [
        "**Tokanize it into senetnces**\n",
        "corpus--> document"
      ],
      "metadata": {
        "id": "OKCFhzIuzYbU"
      }
    },
    {
      "cell_type": "code",
      "source": [
        "from nltk import tokenize"
      ],
      "metadata": {
        "id": "Yn7Dvydhy7rt"
      },
      "execution_count": null,
      "outputs": []
    },
    {
      "cell_type": "code",
      "source": [
        "from nltk.tokenize import sent_tokenize"
      ],
      "metadata": {
        "id": "kmZKZFZKzqJL"
      },
      "execution_count": null,
      "outputs": []
    },
    {
      "cell_type": "code",
      "source": [
        "nltk.download('punkt')"
      ],
      "metadata": {
        "colab": {
          "base_uri": "https://localhost:8080/"
        },
        "id": "egUTHIFi0ALb",
        "outputId": "e57eda48-2a02-49be-a211-9bdc24a6c6b5"
      },
      "execution_count": null,
      "outputs": [
        {
          "output_type": "stream",
          "name": "stderr",
          "text": [
            "[nltk_data] Downloading package punkt to /root/nltk_data...\n",
            "[nltk_data]   Package punkt is already up-to-date!\n"
          ]
        },
        {
          "output_type": "execute_result",
          "data": {
            "text/plain": [
              "True"
            ]
          },
          "metadata": {},
          "execution_count": 11
        }
      ]
    },
    {
      "cell_type": "code",
      "source": [
        "document=sent_tokenize(corpus)"
      ],
      "metadata": {
        "id": "hYq-t40ZzmdV"
      },
      "execution_count": null,
      "outputs": []
    },
    {
      "cell_type": "markdown",
      "source": [
        "****"
      ],
      "metadata": {
        "id": "pQgWsCx40Guz"
      }
    },
    {
      "cell_type": "code",
      "source": [
        "document"
      ],
      "metadata": {
        "colab": {
          "base_uri": "https://localhost:8080/"
        },
        "id": "ADLHEJAdz4-L",
        "outputId": "3e0b0b04-bf27-461c-938f-2a00e430ebbb"
      },
      "execution_count": null,
      "outputs": [
        {
          "output_type": "execute_result",
          "data": {
            "text/plain": [
              "['The news that the “crest dam” of the Tungabhadra Reservoir has broken down, and a part of the gate was washed away on Sunday, leads to grave concerns, not only about the safety of the Pampa Sagar dam, which was inaugurated in 1953, but also of Kerala’s Mullaperiyar Dam, which is the only other reservoir in India also built of mud & limestone, and completed in 1895.',\n",
              " 'Kerala has been shouting itself hoarse about the danger to its population from the vulnerability of the ageing dam.',\n",
              " 'When a much newer dam has surrendered to the force of water pressure, what guarantee do we have that Mullaperiyar too will not give way, with calamitous consequences for millions of Keralites in its path?',\n",
              " 'The union government must intervene proactively to find an urgent solution before a catastrophe strikes.']"
            ]
          },
          "metadata": {},
          "execution_count": 16
        }
      ]
    },
    {
      "cell_type": "code",
      "source": [
        "for doc in document:\n",
        "  print(doc)"
      ],
      "metadata": {
        "colab": {
          "base_uri": "https://localhost:8080/"
        },
        "id": "tTlYD7cgz5BC",
        "outputId": "aee74642-121b-4c22-b083-566801a7dfe3"
      },
      "execution_count": null,
      "outputs": [
        {
          "output_type": "stream",
          "name": "stdout",
          "text": [
            "The news that the “crest dam” of the Tungabhadra Reservoir has broken down, and a part of the gate was washed away on Sunday, leads to grave concerns, not only about the safety of the Pampa Sagar dam, which was inaugurated in 1953, but also of Kerala’s Mullaperiyar Dam, which is the only other reservoir in India also built of mud & limestone, and completed in 1895.\n",
            "Kerala has been shouting itself hoarse about the danger to its population from the vulnerability of the ageing dam.\n",
            "When a much newer dam has surrendered to the force of water pressure, what guarantee do we have that Mullaperiyar too will not give way, with calamitous consequences for millions of Keralites in its path?\n",
            "The union government must intervene proactively to find an urgent solution before a catastrophe strikes.\n"
          ]
        }
      ]
    },
    {
      "cell_type": "code",
      "source": [
        "print(\"NO.  OF SENTENCES IN A CORPUS IS :\",len(document))"
      ],
      "metadata": {
        "colab": {
          "base_uri": "https://localhost:8080/"
        },
        "id": "DvenvNA0zmgL",
        "outputId": "cbe29a2b-0f59-4312-e82b-28cd9abb0784"
      },
      "execution_count": null,
      "outputs": [
        {
          "output_type": "stream",
          "name": "stdout",
          "text": [
            "NO. OF SENTENCES IN A CORPUS IS : 4\n"
          ]
        }
      ]
    },
    {
      "cell_type": "markdown",
      "source": [
        "**Document into words**\n",
        " document --> words"
      ],
      "metadata": {
        "id": "04BJFoWX1ZI_"
      }
    },
    {
      "cell_type": "code",
      "source": [
        "from nltk.tokenize import word_tokenize\n",
        "# punctuation will not be considered as word"
      ],
      "metadata": {
        "id": "dPuWRoWl1AKe"
      },
      "execution_count": null,
      "outputs": []
    },
    {
      "cell_type": "code",
      "source": [
        "words=word_tokenize(corpus)"
      ],
      "metadata": {
        "id": "aXCJiEaq1vQZ"
      },
      "execution_count": null,
      "outputs": []
    },
    {
      "cell_type": "code",
      "source": [
        "words"
      ],
      "metadata": {
        "colab": {
          "base_uri": "https://localhost:8080/"
        },
        "id": "Q3pMWh6_1vRq",
        "outputId": "b4fc35ab-f51c-4854-eff2-6ce1f2bfef8f"
      },
      "execution_count": null,
      "outputs": [
        {
          "output_type": "execute_result",
          "data": {
            "text/plain": [
              "['The',\n",
              " 'news',\n",
              " 'that',\n",
              " 'the',\n",
              " '“',\n",
              " 'crest',\n",
              " 'dam',\n",
              " '”',\n",
              " 'of',\n",
              " 'the',\n",
              " 'Tungabhadra',\n",
              " 'Reservoir',\n",
              " 'has',\n",
              " 'broken',\n",
              " 'down',\n",
              " ',',\n",
              " 'and',\n",
              " 'a',\n",
              " 'part',\n",
              " 'of',\n",
              " 'the',\n",
              " 'gate',\n",
              " 'was',\n",
              " 'washed',\n",
              " 'away',\n",
              " 'on',\n",
              " 'Sunday',\n",
              " ',',\n",
              " 'leads',\n",
              " 'to',\n",
              " 'grave',\n",
              " 'concerns',\n",
              " ',',\n",
              " 'not',\n",
              " 'only',\n",
              " 'about',\n",
              " 'the',\n",
              " 'safety',\n",
              " 'of',\n",
              " 'the',\n",
              " 'Pampa',\n",
              " 'Sagar',\n",
              " 'dam',\n",
              " ',',\n",
              " 'which',\n",
              " 'was',\n",
              " 'inaugurated',\n",
              " 'in',\n",
              " '1953',\n",
              " ',',\n",
              " 'but',\n",
              " 'also',\n",
              " 'of',\n",
              " 'Kerala',\n",
              " '’',\n",
              " 's',\n",
              " 'Mullaperiyar',\n",
              " 'Dam',\n",
              " ',',\n",
              " 'which',\n",
              " 'is',\n",
              " 'the',\n",
              " 'only',\n",
              " 'other',\n",
              " 'reservoir',\n",
              " 'in',\n",
              " 'India',\n",
              " 'also',\n",
              " 'built',\n",
              " 'of',\n",
              " 'mud',\n",
              " '&',\n",
              " 'limestone',\n",
              " ',',\n",
              " 'and',\n",
              " 'completed',\n",
              " 'in',\n",
              " '1895',\n",
              " '.',\n",
              " 'Kerala',\n",
              " 'has',\n",
              " 'been',\n",
              " 'shouting',\n",
              " 'itself',\n",
              " 'hoarse',\n",
              " 'about',\n",
              " 'the',\n",
              " 'danger',\n",
              " 'to',\n",
              " 'its',\n",
              " 'population',\n",
              " 'from',\n",
              " 'the',\n",
              " 'vulnerability',\n",
              " 'of',\n",
              " 'the',\n",
              " 'ageing',\n",
              " 'dam',\n",
              " '.',\n",
              " 'When',\n",
              " 'a',\n",
              " 'much',\n",
              " 'newer',\n",
              " 'dam',\n",
              " 'has',\n",
              " 'surrendered',\n",
              " 'to',\n",
              " 'the',\n",
              " 'force',\n",
              " 'of',\n",
              " 'water',\n",
              " 'pressure',\n",
              " ',',\n",
              " 'what',\n",
              " 'guarantee',\n",
              " 'do',\n",
              " 'we',\n",
              " 'have',\n",
              " 'that',\n",
              " 'Mullaperiyar',\n",
              " 'too',\n",
              " 'will',\n",
              " 'not',\n",
              " 'give',\n",
              " 'way',\n",
              " ',',\n",
              " 'with',\n",
              " 'calamitous',\n",
              " 'consequences',\n",
              " 'for',\n",
              " 'millions',\n",
              " 'of',\n",
              " 'Keralites',\n",
              " 'in',\n",
              " 'its',\n",
              " 'path',\n",
              " '?',\n",
              " 'The',\n",
              " 'union',\n",
              " 'government',\n",
              " 'must',\n",
              " 'intervene',\n",
              " 'proactively',\n",
              " 'to',\n",
              " 'find',\n",
              " 'an',\n",
              " 'urgent',\n",
              " 'solution',\n",
              " 'before',\n",
              " 'a',\n",
              " 'catastrophe',\n",
              " 'strikes',\n",
              " '.']"
            ]
          },
          "metadata": {},
          "execution_count": 38
        }
      ]
    },
    {
      "cell_type": "code",
      "source": [
        "print(\"NO. OF WORDS IN A document IS :\",len(words))"
      ],
      "metadata": {
        "colab": {
          "base_uri": "https://localhost:8080/"
        },
        "id": "lLSFAx_72Lmu",
        "outputId": "8a33fb48-1277-44da-9ebf-1b116dd8c331"
      },
      "execution_count": null,
      "outputs": [
        {
          "output_type": "stream",
          "name": "stdout",
          "text": [
            "NO. OF WORDS IN A document IS : 153\n"
          ]
        }
      ]
    },
    {
      "cell_type": "code",
      "source": [
        "uni_words=set(words)"
      ],
      "metadata": {
        "id": "Xp9UaBUL1vVj"
      },
      "execution_count": null,
      "outputs": []
    },
    {
      "cell_type": "code",
      "source": [
        "uni_words"
      ],
      "metadata": {
        "colab": {
          "base_uri": "https://localhost:8080/"
        },
        "id": "76XIaU5n1ANU",
        "outputId": "1819a8f9-9f5f-4e2b-ea0e-8ff2e8668eed"
      },
      "execution_count": null,
      "outputs": [
        {
          "output_type": "execute_result",
          "data": {
            "text/plain": [
              "{'&',\n",
              " ',',\n",
              " '.',\n",
              " '1895',\n",
              " '1953',\n",
              " '?',\n",
              " 'Dam',\n",
              " 'India',\n",
              " 'Kerala',\n",
              " 'Keralites',\n",
              " 'Mullaperiyar',\n",
              " 'Pampa',\n",
              " 'Reservoir',\n",
              " 'Sagar',\n",
              " 'Sunday',\n",
              " 'The',\n",
              " 'Tungabhadra',\n",
              " 'When',\n",
              " 'a',\n",
              " 'about',\n",
              " 'ageing',\n",
              " 'also',\n",
              " 'an',\n",
              " 'and',\n",
              " 'away',\n",
              " 'been',\n",
              " 'before',\n",
              " 'broken',\n",
              " 'built',\n",
              " 'but',\n",
              " 'calamitous',\n",
              " 'catastrophe',\n",
              " 'completed',\n",
              " 'concerns',\n",
              " 'consequences',\n",
              " 'crest',\n",
              " 'dam',\n",
              " 'danger',\n",
              " 'do',\n",
              " 'down',\n",
              " 'find',\n",
              " 'for',\n",
              " 'force',\n",
              " 'from',\n",
              " 'gate',\n",
              " 'give',\n",
              " 'government',\n",
              " 'grave',\n",
              " 'guarantee',\n",
              " 'has',\n",
              " 'have',\n",
              " 'hoarse',\n",
              " 'in',\n",
              " 'inaugurated',\n",
              " 'intervene',\n",
              " 'is',\n",
              " 'its',\n",
              " 'itself',\n",
              " 'leads',\n",
              " 'limestone',\n",
              " 'millions',\n",
              " 'much',\n",
              " 'mud',\n",
              " 'must',\n",
              " 'newer',\n",
              " 'news',\n",
              " 'not',\n",
              " 'of',\n",
              " 'on',\n",
              " 'only',\n",
              " 'other',\n",
              " 'part',\n",
              " 'path',\n",
              " 'population',\n",
              " 'pressure',\n",
              " 'proactively',\n",
              " 'reservoir',\n",
              " 's',\n",
              " 'safety',\n",
              " 'shouting',\n",
              " 'solution',\n",
              " 'strikes',\n",
              " 'surrendered',\n",
              " 'that',\n",
              " 'the',\n",
              " 'to',\n",
              " 'too',\n",
              " 'union',\n",
              " 'urgent',\n",
              " 'vulnerability',\n",
              " 'was',\n",
              " 'washed',\n",
              " 'water',\n",
              " 'way',\n",
              " 'we',\n",
              " 'what',\n",
              " 'which',\n",
              " 'will',\n",
              " 'with',\n",
              " '’',\n",
              " '“',\n",
              " '”'}"
            ]
          },
          "metadata": {},
          "execution_count": 30
        }
      ]
    },
    {
      "cell_type": "code",
      "source": [
        "print(\"NO. OF unique WORDS IN A CORPUS IS :\",len(uni_words))"
      ],
      "metadata": {
        "colab": {
          "base_uri": "https://localhost:8080/"
        },
        "id": "EM51ePBx2GEG",
        "outputId": "855de3d0-6c17-4b2e-8755-4744b1878d64"
      },
      "execution_count": null,
      "outputs": [
        {
          "output_type": "stream",
          "name": "stdout",
          "text": [
            "NO. OF unique WORDS IN A CORPUS IS : 102\n"
          ]
        }
      ]
    },
    {
      "cell_type": "code",
      "source": [
        "for doc in document:\n",
        "  print(word_tokenize(doc))"
      ],
      "metadata": {
        "colab": {
          "base_uri": "https://localhost:8080/"
        },
        "id": "jNu14dRO2VJD",
        "outputId": "723f8d20-92d4-47d5-d6d0-9bee81c08290"
      },
      "execution_count": null,
      "outputs": [
        {
          "output_type": "stream",
          "name": "stdout",
          "text": [
            "['The', 'news', 'that', 'the', '“', 'crest', 'dam', '”', 'of', 'the', 'Tungabhadra', 'Reservoir', 'has', 'broken', 'down', ',', 'and', 'a', 'part', 'of', 'the', 'gate', 'was', 'washed', 'away', 'on', 'Sunday', ',', 'leads', 'to', 'grave', 'concerns', ',', 'not', 'only', 'about', 'the', 'safety', 'of', 'the', 'Pampa', 'Sagar', 'dam', ',', 'which', 'was', 'inaugurated', 'in', '1953', ',', 'but', 'also', 'of', 'Kerala', '’', 's', 'Mullaperiyar', 'Dam', ',', 'which', 'is', 'the', 'only', 'other', 'reservoir', 'in', 'India', 'also', 'built', 'of', 'mud', '&', 'limestone', ',', 'and', 'completed', 'in', '1895', '.']\n",
            "['Kerala', 'has', 'been', 'shouting', 'itself', 'hoarse', 'about', 'the', 'danger', 'to', 'its', 'population', 'from', 'the', 'vulnerability', 'of', 'the', 'ageing', 'dam', '.']\n",
            "['When', 'a', 'much', 'newer', 'dam', 'has', 'surrendered', 'to', 'the', 'force', 'of', 'water', 'pressure', ',', 'what', 'guarantee', 'do', 'we', 'have', 'that', 'Mullaperiyar', 'too', 'will', 'not', 'give', 'way', ',', 'with', 'calamitous', 'consequences', 'for', 'millions', 'of', 'Keralites', 'in', 'its', 'path', '?']\n",
            "['The', 'union', 'government', 'must', 'intervene', 'proactively', 'to', 'find', 'an', 'urgent', 'solution', 'before', 'a', 'catastrophe', 'strikes', '.']\n"
          ]
        }
      ]
    },
    {
      "cell_type": "markdown",
      "source": [
        "**use punctuation library**"
      ],
      "metadata": {
        "id": "ds_8sv624STj"
      }
    },
    {
      "cell_type": "code",
      "source": [
        "from nltk.tokenize import wordpunct_tokenize\n",
        "# punctuation will be considered as a word"
      ],
      "metadata": {
        "id": "cPhJMpYo2VKH"
      },
      "execution_count": null,
      "outputs": []
    },
    {
      "cell_type": "code",
      "source": [
        "with_punk=wordpunct_tokenize(corpus)"
      ],
      "metadata": {
        "id": "ZFx7NXAB2VN6"
      },
      "execution_count": null,
      "outputs": []
    },
    {
      "cell_type": "code",
      "source": [
        "with_punk"
      ],
      "metadata": {
        "colab": {
          "base_uri": "https://localhost:8080/"
        },
        "id": "Q3_iwgr94gJP",
        "outputId": "c7194085-8a6b-448d-a030-8512aa013170"
      },
      "execution_count": null,
      "outputs": [
        {
          "output_type": "execute_result",
          "data": {
            "text/plain": [
              "['The',\n",
              " 'news',\n",
              " 'that',\n",
              " 'the',\n",
              " '“',\n",
              " 'crest',\n",
              " 'dam',\n",
              " '”',\n",
              " 'of',\n",
              " 'the',\n",
              " 'Tungabhadra',\n",
              " 'Reservoir',\n",
              " 'has',\n",
              " 'broken',\n",
              " 'down',\n",
              " ',',\n",
              " 'and',\n",
              " 'a',\n",
              " 'part',\n",
              " 'of',\n",
              " 'the',\n",
              " 'gate',\n",
              " 'was',\n",
              " 'washed',\n",
              " 'away',\n",
              " 'on',\n",
              " 'Sunday',\n",
              " ',',\n",
              " 'leads',\n",
              " 'to',\n",
              " 'grave',\n",
              " 'concerns',\n",
              " ',',\n",
              " 'not',\n",
              " 'only',\n",
              " 'about',\n",
              " 'the',\n",
              " 'safety',\n",
              " 'of',\n",
              " 'the',\n",
              " 'Pampa',\n",
              " 'Sagar',\n",
              " 'dam',\n",
              " ',',\n",
              " 'which',\n",
              " 'was',\n",
              " 'inaugurated',\n",
              " 'in',\n",
              " '1953',\n",
              " ',',\n",
              " 'but',\n",
              " 'also',\n",
              " 'of',\n",
              " 'Kerala',\n",
              " '’',\n",
              " 's',\n",
              " 'Mullaperiyar',\n",
              " 'Dam',\n",
              " ',',\n",
              " 'which',\n",
              " 'is',\n",
              " 'the',\n",
              " 'only',\n",
              " 'other',\n",
              " 'reservoir',\n",
              " 'in',\n",
              " 'India',\n",
              " 'also',\n",
              " 'built',\n",
              " 'of',\n",
              " 'mud',\n",
              " '&',\n",
              " 'limestone',\n",
              " ',',\n",
              " 'and',\n",
              " 'completed',\n",
              " 'in',\n",
              " '1895',\n",
              " '.',\n",
              " 'Kerala',\n",
              " 'has',\n",
              " 'been',\n",
              " 'shouting',\n",
              " 'itself',\n",
              " 'hoarse',\n",
              " 'about',\n",
              " 'the',\n",
              " 'danger',\n",
              " 'to',\n",
              " 'its',\n",
              " 'population',\n",
              " 'from',\n",
              " 'the',\n",
              " 'vulnerability',\n",
              " 'of',\n",
              " 'the',\n",
              " 'ageing',\n",
              " 'dam',\n",
              " '.',\n",
              " 'When',\n",
              " 'a',\n",
              " 'much',\n",
              " 'newer',\n",
              " 'dam',\n",
              " 'has',\n",
              " 'surrendered',\n",
              " 'to',\n",
              " 'the',\n",
              " 'force',\n",
              " 'of',\n",
              " 'water',\n",
              " 'pressure',\n",
              " ',',\n",
              " 'what',\n",
              " 'guarantee',\n",
              " 'do',\n",
              " 'we',\n",
              " 'have',\n",
              " 'that',\n",
              " 'Mullaperiyar',\n",
              " 'too',\n",
              " 'will',\n",
              " 'not',\n",
              " 'give',\n",
              " 'way',\n",
              " ',',\n",
              " 'with',\n",
              " 'calamitous',\n",
              " 'consequences',\n",
              " 'for',\n",
              " 'millions',\n",
              " 'of',\n",
              " 'Keralites',\n",
              " 'in',\n",
              " 'its',\n",
              " 'path',\n",
              " '?',\n",
              " 'The',\n",
              " 'union',\n",
              " 'government',\n",
              " 'must',\n",
              " 'intervene',\n",
              " 'proactively',\n",
              " 'to',\n",
              " 'find',\n",
              " 'an',\n",
              " 'urgent',\n",
              " 'solution',\n",
              " 'before',\n",
              " 'a',\n",
              " 'catastrophe',\n",
              " 'strikes',\n",
              " '.']"
            ]
          },
          "metadata": {},
          "execution_count": 43
        }
      ]
    },
    {
      "cell_type": "markdown",
      "source": [
        "**use TreeBankWordTokenize**"
      ],
      "metadata": {
        "id": "dj9xAMv55wgn"
      }
    },
    {
      "cell_type": "code",
      "source": [
        "from nltk.tokenize import TreebankWordTokenizer\n",
        "# full stop will not be consider as a word\n",
        "# only last full stop will consider a word"
      ],
      "metadata": {
        "id": "kPPdzEje4gGX"
      },
      "execution_count": null,
      "outputs": []
    },
    {
      "cell_type": "code",
      "source": [
        "treebank=TreebankWordTokenizer()"
      ],
      "metadata": {
        "id": "abjswa1W4gDe"
      },
      "execution_count": null,
      "outputs": []
    },
    {
      "cell_type": "code",
      "source": [
        "tokenize.TreebankWordTokenizer().tokenize(corpus)"
      ],
      "metadata": {
        "colab": {
          "base_uri": "https://localhost:8080/"
        },
        "id": "G82gYQuw4gB6",
        "outputId": "b84232d7-43c9-4faf-be38-bc50398f6190"
      },
      "execution_count": null,
      "outputs": [
        {
          "output_type": "execute_result",
          "data": {
            "text/plain": [
              "['The',\n",
              " 'news',\n",
              " 'that',\n",
              " 'the',\n",
              " '“crest',\n",
              " 'dam”',\n",
              " 'of',\n",
              " 'the',\n",
              " 'Tungabhadra',\n",
              " 'Reservoir',\n",
              " 'has',\n",
              " 'broken',\n",
              " 'down',\n",
              " ',',\n",
              " 'and',\n",
              " 'a',\n",
              " 'part',\n",
              " 'of',\n",
              " 'the',\n",
              " 'gate',\n",
              " 'was',\n",
              " 'washed',\n",
              " 'away',\n",
              " 'on',\n",
              " 'Sunday',\n",
              " ',',\n",
              " 'leads',\n",
              " 'to',\n",
              " 'grave',\n",
              " 'concerns',\n",
              " ',',\n",
              " 'not',\n",
              " 'only',\n",
              " 'about',\n",
              " 'the',\n",
              " 'safety',\n",
              " 'of',\n",
              " 'the',\n",
              " 'Pampa',\n",
              " 'Sagar',\n",
              " 'dam',\n",
              " ',',\n",
              " 'which',\n",
              " 'was',\n",
              " 'inaugurated',\n",
              " 'in',\n",
              " '1953',\n",
              " ',',\n",
              " 'but',\n",
              " 'also',\n",
              " 'of',\n",
              " 'Kerala’s',\n",
              " 'Mullaperiyar',\n",
              " 'Dam',\n",
              " ',',\n",
              " 'which',\n",
              " 'is',\n",
              " 'the',\n",
              " 'only',\n",
              " 'other',\n",
              " 'reservoir',\n",
              " 'in',\n",
              " 'India',\n",
              " 'also',\n",
              " 'built',\n",
              " 'of',\n",
              " 'mud',\n",
              " '&',\n",
              " 'limestone',\n",
              " ',',\n",
              " 'and',\n",
              " 'completed',\n",
              " 'in',\n",
              " '1895.',\n",
              " 'Kerala',\n",
              " 'has',\n",
              " 'been',\n",
              " 'shouting',\n",
              " 'itself',\n",
              " 'hoarse',\n",
              " 'about',\n",
              " 'the',\n",
              " 'danger',\n",
              " 'to',\n",
              " 'its',\n",
              " 'population',\n",
              " 'from',\n",
              " 'the',\n",
              " 'vulnerability',\n",
              " 'of',\n",
              " 'the',\n",
              " 'ageing',\n",
              " 'dam.',\n",
              " 'When',\n",
              " 'a',\n",
              " 'much',\n",
              " 'newer',\n",
              " 'dam',\n",
              " 'has',\n",
              " 'surrendered',\n",
              " 'to',\n",
              " 'the',\n",
              " 'force',\n",
              " 'of',\n",
              " 'water',\n",
              " 'pressure',\n",
              " ',',\n",
              " 'what',\n",
              " 'guarantee',\n",
              " 'do',\n",
              " 'we',\n",
              " 'have',\n",
              " 'that',\n",
              " 'Mullaperiyar',\n",
              " 'too',\n",
              " 'will',\n",
              " 'not',\n",
              " 'give',\n",
              " 'way',\n",
              " ',',\n",
              " 'with',\n",
              " 'calamitous',\n",
              " 'consequences',\n",
              " 'for',\n",
              " 'millions',\n",
              " 'of',\n",
              " 'Keralites',\n",
              " 'in',\n",
              " 'its',\n",
              " 'path',\n",
              " '?',\n",
              " 'The',\n",
              " 'union',\n",
              " 'government',\n",
              " 'must',\n",
              " 'intervene',\n",
              " 'proactively',\n",
              " 'to',\n",
              " 'find',\n",
              " 'an',\n",
              " 'urgent',\n",
              " 'solution',\n",
              " 'before',\n",
              " 'a',\n",
              " 'catastrophe',\n",
              " 'strikes',\n",
              " '.']"
            ]
          },
          "metadata": {},
          "execution_count": 47
        }
      ]
    },
    {
      "cell_type": "code",
      "source": [],
      "metadata": {
        "id": "W-aG9QDy4fbk"
      },
      "execution_count": null,
      "outputs": []
    }
  ]
}